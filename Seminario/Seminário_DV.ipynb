{
  "nbformat": 4,
  "nbformat_minor": 0,
  "metadata": {
    "colab": {
      "provenance": [],
      "authorship_tag": "ABX9TyOz6nyTti8vE4Ukanhw1eyk",
      "include_colab_link": true
    },
    "kernelspec": {
      "name": "python3",
      "display_name": "Python 3"
    },
    "language_info": {
      "name": "python"
    }
  },
  "cells": [
    {
      "cell_type": "markdown",
      "metadata": {
        "id": "view-in-github",
        "colab_type": "text"
      },
      "source": [
        "<a href=\"https://colab.research.google.com/github/Cesarquatro/Dinamina_veicular/blob/main/Seminario/Semin%C3%A1rio_DV.ipynb\" target=\"_parent\"><img src=\"https://colab.research.google.com/assets/colab-badge.svg\" alt=\"Open In Colab\"/></a>"
      ]
    },
    {
      "cell_type": "markdown",
      "source": [
        "###Tem três formas:\n",
        "* A primeira é você abrir o bloquinho, pegar os parâmetros e calcular o K pela fórmula dos slides da aula 06\n",
        "\n",
        "* A segunda é vc calcular o raio da curva pro esterçamento que vc tá usando, considerando baixa velocidade (ackerman).\n",
        "\n",
        "  Então, se o raio simulado é maior que o raio calculado, ele é subesterçante, se for menor, é sobresterçante\n",
        "\n",
        "* A terceira é vc mudar a velocidade pra um valor muito baixo (por exemplo 1 m/s) aí vc compara o raio da curva em baixa velocidade e na velocidade que vc simulou inicialmente"
      ],
      "metadata": {
        "id": "R5s9p2taewKJ"
      }
    },
    {
      "cell_type": "code",
      "source": [
        "import numpy as np"
      ],
      "metadata": {
        "id": "Kp6IzoyB-vOv"
      },
      "execution_count": 1,
      "outputs": []
    },
    {
      "cell_type": "code",
      "execution_count": 24,
      "metadata": {
        "id": "cVQMLza4etdj",
        "colab": {
          "base_uri": "https://localhost:8080/"
        },
        "outputId": "69f9512d-f546-4105-9f9f-6f871ce781cd"
      },
      "outputs": [
        {
          "output_type": "stream",
          "name": "stdout",
          "text": [
            "[10 10 10 10]\n",
            "V = 10 m/s\tDelta = 10∘\tRc = 18.35 m\tKs = -0.039\n",
            "V = 20 m/s\tDelta = 10∘\tRc = 41.15 m\tKs = 0.088\n",
            "V = 30 m/s\tDelta = 10∘\tRc = 109.55 m\tKs = 0.169\n",
            "V = 40 m/s\tDelta = 10∘\tRc = 317.7 m\tKs = 0.318\n"
          ]
        }
      ],
      "source": [
        "V_ms_delta_cte =np.array([10    , 20    , 30    , 40    ])\n",
        "Ks_delta_cte   =np.array([0.1834, 0.1040, 0.1238, 0.2049])\n",
        "delta = np.full((1, len(V_ms_delta_cte)), 10).squeeze()\n",
        "delta_rad = np.deg2rad(delta)\n",
        "\n",
        "print(delta)\n",
        "\n",
        "Ks = np.zeros([1, len(V_ms_delta_cte)]).squeeze()\n",
        "\n",
        "L = 3.60\n",
        "g = 9.81\n",
        "Rc = np.array([(39.6  - 2.9) / 2,\n",
        "               (83.9  - 1.6) / 2,\n",
        "               (219.3 - 0.2) / 2,\n",
        "               (635.4 - 0.0) / 2])\n",
        "\n",
        "for i in range(len(delta)):\n",
        "  Ks[i] = (((delta_rad[i]) - (L / Rc[i])) / ((V_ms_delta_cte[i]**2) / (Rc[i] * g)))\n",
        "  print(f\"V = {V_ms_delta_cte[i]} m/s\\tDelta = {delta[i]}∘\\tRc = {round(Rc[i], 2)} m\\tKs = {round(Ks[i], 3)}\")"
      ]
    }
  ]
}